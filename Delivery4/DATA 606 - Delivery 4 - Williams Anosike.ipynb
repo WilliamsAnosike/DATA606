{
 "cells": [
  {
   "cell_type": "code",
   "execution_count": 1,
   "metadata": {
    "_uuid": "920d19c5618b2b83b4d95c8137b87484a2b9aad3"
   },
   "outputs": [],
   "source": [
    "%matplotlib inline\n",
    "\n",
    "# Essentials: Data Cleansing and ETL\n",
    "import pandas as pd\n",
    "import numpy as np\n",
    "\n",
    "# Plotting\n",
    "import matplotlib.pyplot as plt\n",
    "import matplotlib.patches as patches\n",
    "from matplotlib.legend_handler import HandlerLine2D\n",
    "\n",
    "# Algorithms\n",
    "from sklearn import linear_model\n",
    "from sklearn.linear_model import LogisticRegression\n",
    "from sklearn.ensemble import RandomForestClassifier\n",
    "from sklearn.neighbors import KNeighborsClassifier\n",
    "from sklearn.ensemble import GradientBoostingClassifier\n",
    "from sklearn.tree import DecisionTreeClassifier\n",
    "\n",
    "from sklearn.metrics import roc_curve, auc \n",
    "from sklearn.model_selection import train_test_split"
   ]
  },
  {
   "cell_type": "markdown",
   "metadata": {
    "_uuid": "dffde9ce62083a8864436830e4551b75fe678f3c"
   },
   "source": [
    "<h1>\n",
    "Importing Data\n",
    "</h1>"
   ]
  },
  {
   "cell_type": "code",
   "execution_count": 2,
   "metadata": {
    "_uuid": "162dc07c73e347ec6c87a3bf3ced72ba9eb57b19"
   },
   "outputs": [
    {
     "name": "stderr",
     "output_type": "stream",
     "text": [
      "C:\\Users\\Williams\\Anaconda3\\lib\\site-packages\\IPython\\core\\interactiveshell.py:3049: DtypeWarning: Columns (25,51) have mixed types. Specify dtype option on import or set low_memory=False.\n",
      "  interactivity=interactivity, compiler=compiler, result=result)\n"
     ]
    },
    {
     "data": {
      "text/html": [
       "<div>\n",
       "<style scoped>\n",
       "    .dataframe tbody tr th:only-of-type {\n",
       "        vertical-align: middle;\n",
       "    }\n",
       "\n",
       "    .dataframe tbody tr th {\n",
       "        vertical-align: top;\n",
       "    }\n",
       "\n",
       "    .dataframe thead th {\n",
       "        text-align: right;\n",
       "    }\n",
       "</style>\n",
       "<table border=\"1\" class=\"dataframe\">\n",
       "  <thead>\n",
       "    <tr style=\"text-align: right;\">\n",
       "      <th></th>\n",
       "      <th>Date</th>\n",
       "      <th>GameID</th>\n",
       "      <th>Drive</th>\n",
       "      <th>qtr</th>\n",
       "      <th>down</th>\n",
       "      <th>time</th>\n",
       "      <th>TimeUnder</th>\n",
       "      <th>TimeSecs</th>\n",
       "      <th>PlayTimeDiff</th>\n",
       "      <th>SideofField</th>\n",
       "      <th>...</th>\n",
       "      <th>yacEPA</th>\n",
       "      <th>Home_WP_pre</th>\n",
       "      <th>Away_WP_pre</th>\n",
       "      <th>Home_WP_post</th>\n",
       "      <th>Away_WP_post</th>\n",
       "      <th>Win_Prob</th>\n",
       "      <th>WPA</th>\n",
       "      <th>airWPA</th>\n",
       "      <th>yacWPA</th>\n",
       "      <th>Season</th>\n",
       "    </tr>\n",
       "  </thead>\n",
       "  <tbody>\n",
       "    <tr>\n",
       "      <th>0</th>\n",
       "      <td>2009-09-10</td>\n",
       "      <td>2009091000</td>\n",
       "      <td>1</td>\n",
       "      <td>1</td>\n",
       "      <td>NaN</td>\n",
       "      <td>15:00</td>\n",
       "      <td>15</td>\n",
       "      <td>3600.0</td>\n",
       "      <td>0.0</td>\n",
       "      <td>TEN</td>\n",
       "      <td>...</td>\n",
       "      <td>NaN</td>\n",
       "      <td>0.485675</td>\n",
       "      <td>0.514325</td>\n",
       "      <td>0.546433</td>\n",
       "      <td>0.453567</td>\n",
       "      <td>0.485675</td>\n",
       "      <td>0.060758</td>\n",
       "      <td>NaN</td>\n",
       "      <td>NaN</td>\n",
       "      <td>2009</td>\n",
       "    </tr>\n",
       "    <tr>\n",
       "      <th>1</th>\n",
       "      <td>2009-09-10</td>\n",
       "      <td>2009091000</td>\n",
       "      <td>1</td>\n",
       "      <td>1</td>\n",
       "      <td>1.0</td>\n",
       "      <td>14:53</td>\n",
       "      <td>15</td>\n",
       "      <td>3593.0</td>\n",
       "      <td>7.0</td>\n",
       "      <td>PIT</td>\n",
       "      <td>...</td>\n",
       "      <td>1.146076</td>\n",
       "      <td>0.546433</td>\n",
       "      <td>0.453567</td>\n",
       "      <td>0.551088</td>\n",
       "      <td>0.448912</td>\n",
       "      <td>0.546433</td>\n",
       "      <td>0.004655</td>\n",
       "      <td>-0.032244</td>\n",
       "      <td>0.036899</td>\n",
       "      <td>2009</td>\n",
       "    </tr>\n",
       "    <tr>\n",
       "      <th>2</th>\n",
       "      <td>2009-09-10</td>\n",
       "      <td>2009091000</td>\n",
       "      <td>1</td>\n",
       "      <td>1</td>\n",
       "      <td>2.0</td>\n",
       "      <td>14:16</td>\n",
       "      <td>15</td>\n",
       "      <td>3556.0</td>\n",
       "      <td>37.0</td>\n",
       "      <td>PIT</td>\n",
       "      <td>...</td>\n",
       "      <td>NaN</td>\n",
       "      <td>0.551088</td>\n",
       "      <td>0.448912</td>\n",
       "      <td>0.510793</td>\n",
       "      <td>0.489207</td>\n",
       "      <td>0.551088</td>\n",
       "      <td>-0.040295</td>\n",
       "      <td>NaN</td>\n",
       "      <td>NaN</td>\n",
       "      <td>2009</td>\n",
       "    </tr>\n",
       "    <tr>\n",
       "      <th>3</th>\n",
       "      <td>2009-09-10</td>\n",
       "      <td>2009091000</td>\n",
       "      <td>1</td>\n",
       "      <td>1</td>\n",
       "      <td>3.0</td>\n",
       "      <td>13:35</td>\n",
       "      <td>14</td>\n",
       "      <td>3515.0</td>\n",
       "      <td>41.0</td>\n",
       "      <td>PIT</td>\n",
       "      <td>...</td>\n",
       "      <td>-5.031425</td>\n",
       "      <td>0.510793</td>\n",
       "      <td>0.489207</td>\n",
       "      <td>0.461217</td>\n",
       "      <td>0.538783</td>\n",
       "      <td>0.510793</td>\n",
       "      <td>-0.049576</td>\n",
       "      <td>0.106663</td>\n",
       "      <td>-0.156239</td>\n",
       "      <td>2009</td>\n",
       "    </tr>\n",
       "    <tr>\n",
       "      <th>4</th>\n",
       "      <td>2009-09-10</td>\n",
       "      <td>2009091000</td>\n",
       "      <td>1</td>\n",
       "      <td>1</td>\n",
       "      <td>4.0</td>\n",
       "      <td>13:27</td>\n",
       "      <td>14</td>\n",
       "      <td>3507.0</td>\n",
       "      <td>8.0</td>\n",
       "      <td>PIT</td>\n",
       "      <td>...</td>\n",
       "      <td>NaN</td>\n",
       "      <td>0.461217</td>\n",
       "      <td>0.538783</td>\n",
       "      <td>0.558929</td>\n",
       "      <td>0.441071</td>\n",
       "      <td>0.461217</td>\n",
       "      <td>0.097712</td>\n",
       "      <td>NaN</td>\n",
       "      <td>NaN</td>\n",
       "      <td>2009</td>\n",
       "    </tr>\n",
       "    <tr>\n",
       "      <th>5</th>\n",
       "      <td>2009-09-10</td>\n",
       "      <td>2009091000</td>\n",
       "      <td>2</td>\n",
       "      <td>1</td>\n",
       "      <td>1.0</td>\n",
       "      <td>13:16</td>\n",
       "      <td>14</td>\n",
       "      <td>3496.0</td>\n",
       "      <td>11.0</td>\n",
       "      <td>TEN</td>\n",
       "      <td>...</td>\n",
       "      <td>NaN</td>\n",
       "      <td>0.558929</td>\n",
       "      <td>0.441071</td>\n",
       "      <td>0.578453</td>\n",
       "      <td>0.421547</td>\n",
       "      <td>0.441071</td>\n",
       "      <td>-0.019524</td>\n",
       "      <td>NaN</td>\n",
       "      <td>NaN</td>\n",
       "      <td>2009</td>\n",
       "    </tr>\n",
       "    <tr>\n",
       "      <th>6</th>\n",
       "      <td>2009-09-10</td>\n",
       "      <td>2009091000</td>\n",
       "      <td>2</td>\n",
       "      <td>1</td>\n",
       "      <td>2.0</td>\n",
       "      <td>12:40</td>\n",
       "      <td>13</td>\n",
       "      <td>3460.0</td>\n",
       "      <td>36.0</td>\n",
       "      <td>TEN</td>\n",
       "      <td>...</td>\n",
       "      <td>0.163935</td>\n",
       "      <td>0.578453</td>\n",
       "      <td>0.421547</td>\n",
       "      <td>0.582881</td>\n",
       "      <td>0.417119</td>\n",
       "      <td>0.421547</td>\n",
       "      <td>-0.004427</td>\n",
       "      <td>-0.010456</td>\n",
       "      <td>0.006029</td>\n",
       "      <td>2009</td>\n",
       "    </tr>\n",
       "    <tr>\n",
       "      <th>7</th>\n",
       "      <td>2009-09-10</td>\n",
       "      <td>2009091000</td>\n",
       "      <td>2</td>\n",
       "      <td>1</td>\n",
       "      <td>3.0</td>\n",
       "      <td>12:11</td>\n",
       "      <td>13</td>\n",
       "      <td>3431.0</td>\n",
       "      <td>29.0</td>\n",
       "      <td>TEN</td>\n",
       "      <td>...</td>\n",
       "      <td>NaN</td>\n",
       "      <td>0.582881</td>\n",
       "      <td>0.417119</td>\n",
       "      <td>0.617544</td>\n",
       "      <td>0.382456</td>\n",
       "      <td>0.417119</td>\n",
       "      <td>-0.034663</td>\n",
       "      <td>NaN</td>\n",
       "      <td>NaN</td>\n",
       "      <td>2009</td>\n",
       "    </tr>\n",
       "    <tr>\n",
       "      <th>8</th>\n",
       "      <td>2009-09-10</td>\n",
       "      <td>2009091000</td>\n",
       "      <td>2</td>\n",
       "      <td>1</td>\n",
       "      <td>4.0</td>\n",
       "      <td>11:34</td>\n",
       "      <td>12</td>\n",
       "      <td>3394.0</td>\n",
       "      <td>37.0</td>\n",
       "      <td>TEN</td>\n",
       "      <td>...</td>\n",
       "      <td>NaN</td>\n",
       "      <td>0.617544</td>\n",
       "      <td>0.382456</td>\n",
       "      <td>0.591489</td>\n",
       "      <td>0.408511</td>\n",
       "      <td>0.382456</td>\n",
       "      <td>0.026054</td>\n",
       "      <td>NaN</td>\n",
       "      <td>NaN</td>\n",
       "      <td>2009</td>\n",
       "    </tr>\n",
       "    <tr>\n",
       "      <th>9</th>\n",
       "      <td>2009-09-10</td>\n",
       "      <td>2009091000</td>\n",
       "      <td>3</td>\n",
       "      <td>1</td>\n",
       "      <td>1.0</td>\n",
       "      <td>11:24</td>\n",
       "      <td>12</td>\n",
       "      <td>3384.0</td>\n",
       "      <td>10.0</td>\n",
       "      <td>TEN</td>\n",
       "      <td>...</td>\n",
       "      <td>0.541602</td>\n",
       "      <td>0.591489</td>\n",
       "      <td>0.408511</td>\n",
       "      <td>0.585405</td>\n",
       "      <td>0.414595</td>\n",
       "      <td>0.591489</td>\n",
       "      <td>-0.006084</td>\n",
       "      <td>-0.024526</td>\n",
       "      <td>0.018442</td>\n",
       "      <td>2009</td>\n",
       "    </tr>\n",
       "  </tbody>\n",
       "</table>\n",
       "<p>10 rows × 102 columns</p>\n",
       "</div>"
      ],
      "text/plain": [
       "         Date      GameID  Drive  qtr  down   time  TimeUnder  TimeSecs  \\\n",
       "0  2009-09-10  2009091000      1    1   NaN  15:00         15    3600.0   \n",
       "1  2009-09-10  2009091000      1    1   1.0  14:53         15    3593.0   \n",
       "2  2009-09-10  2009091000      1    1   2.0  14:16         15    3556.0   \n",
       "3  2009-09-10  2009091000      1    1   3.0  13:35         14    3515.0   \n",
       "4  2009-09-10  2009091000      1    1   4.0  13:27         14    3507.0   \n",
       "5  2009-09-10  2009091000      2    1   1.0  13:16         14    3496.0   \n",
       "6  2009-09-10  2009091000      2    1   2.0  12:40         13    3460.0   \n",
       "7  2009-09-10  2009091000      2    1   3.0  12:11         13    3431.0   \n",
       "8  2009-09-10  2009091000      2    1   4.0  11:34         12    3394.0   \n",
       "9  2009-09-10  2009091000      3    1   1.0  11:24         12    3384.0   \n",
       "\n",
       "   PlayTimeDiff SideofField  ...    yacEPA  Home_WP_pre  Away_WP_pre  \\\n",
       "0           0.0         TEN  ...       NaN     0.485675     0.514325   \n",
       "1           7.0         PIT  ...  1.146076     0.546433     0.453567   \n",
       "2          37.0         PIT  ...       NaN     0.551088     0.448912   \n",
       "3          41.0         PIT  ... -5.031425     0.510793     0.489207   \n",
       "4           8.0         PIT  ...       NaN     0.461217     0.538783   \n",
       "5          11.0         TEN  ...       NaN     0.558929     0.441071   \n",
       "6          36.0         TEN  ...  0.163935     0.578453     0.421547   \n",
       "7          29.0         TEN  ...       NaN     0.582881     0.417119   \n",
       "8          37.0         TEN  ...       NaN     0.617544     0.382456   \n",
       "9          10.0         TEN  ...  0.541602     0.591489     0.408511   \n",
       "\n",
       "   Home_WP_post  Away_WP_post  Win_Prob       WPA    airWPA    yacWPA  Season  \n",
       "0      0.546433      0.453567  0.485675  0.060758       NaN       NaN    2009  \n",
       "1      0.551088      0.448912  0.546433  0.004655 -0.032244  0.036899    2009  \n",
       "2      0.510793      0.489207  0.551088 -0.040295       NaN       NaN    2009  \n",
       "3      0.461217      0.538783  0.510793 -0.049576  0.106663 -0.156239    2009  \n",
       "4      0.558929      0.441071  0.461217  0.097712       NaN       NaN    2009  \n",
       "5      0.578453      0.421547  0.441071 -0.019524       NaN       NaN    2009  \n",
       "6      0.582881      0.417119  0.421547 -0.004427 -0.010456  0.006029    2009  \n",
       "7      0.617544      0.382456  0.417119 -0.034663       NaN       NaN    2009  \n",
       "8      0.591489      0.408511  0.382456  0.026054       NaN       NaN    2009  \n",
       "9      0.585405      0.414595  0.591489 -0.006084 -0.024526  0.018442    2009  \n",
       "\n",
       "[10 rows x 102 columns]"
      ]
     },
     "execution_count": 2,
     "metadata": {},
     "output_type": "execute_result"
    }
   ],
   "source": [
    "df = pd.read_csv('C:/Users/Williams/DATA 606/NFL Play by Play 2009-2017 (v4).csv')\n",
    "df.head(10)"
   ]
  },
  {
   "cell_type": "markdown",
   "metadata": {
    "_uuid": "0f6751d0d1e73db26c936125592c9f84fbaf4316"
   },
   "source": [
    "<h1>\n",
    "Exploratory Analysis - Predicting the Play Type\n",
    "</h1>"
   ]
  },
  {
   "cell_type": "markdown",
   "metadata": {
    "_uuid": "ee549616ddeab44b1d8038fdcb7bef962290f486"
   },
   "source": [
    "<h3>\n",
    "Looking at the Data\n",
    "</h3>\n",
    "<body>\n",
    "    We can see that the data is particularily encompassing. 102 Columns of data is a lot more data than we'll need while building potential models. This is because more attributes can typically cause over-fitting for any method we decide to impliment.\n",
    "    </body>"
   ]
  },
  {
   "cell_type": "code",
   "execution_count": 3,
   "metadata": {
    "_uuid": "59b1389db3c234fbdcb15ed5ce290400016645c8"
   },
   "outputs": [
    {
     "name": "stdout",
     "output_type": "stream",
     "text": [
      "<class 'pandas.core.frame.DataFrame'>\n",
      "RangeIndex: 407688 entries, 0 to 407687\n",
      "Columns: 102 entries, Date to Season\n",
      "dtypes: float64(33), int64(31), object(38)\n",
      "memory usage: 317.3+ MB\n"
     ]
    }
   ],
   "source": [
    "df.info()"
   ]
  },
  {
   "cell_type": "code",
   "execution_count": 4,
   "metadata": {
    "_uuid": "b2466af630e2eb83598b26870399212fbbd6bf42"
   },
   "outputs": [
    {
     "data": {
      "text/plain": [
       "(407688, 102)"
      ]
     },
     "execution_count": 4,
     "metadata": {},
     "output_type": "execute_result"
    }
   ],
   "source": [
    "df.shape"
   ]
  },
  {
   "cell_type": "code",
   "execution_count": 5,
   "metadata": {},
   "outputs": [
    {
     "data": {
      "text/plain": [
       "Date                           False\n",
       "GameID                         False\n",
       "Drive                          False\n",
       "qtr                            False\n",
       "down                            True\n",
       "time                            True\n",
       "TimeUnder                      False\n",
       "TimeSecs                        True\n",
       "PlayTimeDiff                    True\n",
       "SideofField                     True\n",
       "yrdln                           True\n",
       "yrdline100                      True\n",
       "ydstogo                        False\n",
       "ydsnet                         False\n",
       "GoalToGo                        True\n",
       "FirstDown                       True\n",
       "posteam                         True\n",
       "DefensiveTeam                   True\n",
       "desc                            True\n",
       "PlayAttempted                  False\n",
       "Yards.Gained                   False\n",
       "sp                             False\n",
       "Touchdown                      False\n",
       "ExPointResult                   True\n",
       "TwoPointConv                    True\n",
       "DefTwoPoint                     True\n",
       "Safety                         False\n",
       "Onsidekick                     False\n",
       "PuntResult                      True\n",
       "PlayType                       False\n",
       "                               ...  \n",
       "AwayTeam                       False\n",
       "Timeout_Indicator              False\n",
       "Timeout_Team                   False\n",
       "posteam_timeouts_pre           False\n",
       "HomeTimeouts_Remaining_Pre     False\n",
       "AwayTimeouts_Remaining_Pre     False\n",
       "HomeTimeouts_Remaining_Post    False\n",
       "AwayTimeouts_Remaining_Post    False\n",
       "No_Score_Prob                   True\n",
       "Opp_Field_Goal_Prob             True\n",
       "Opp_Safety_Prob                 True\n",
       "Opp_Touchdown_Prob              True\n",
       "Field_Goal_Prob                 True\n",
       "Safety_Prob                     True\n",
       "Touchdown_Prob                  True\n",
       "ExPoint_Prob                   False\n",
       "TwoPoint_Prob                  False\n",
       "ExpPts                          True\n",
       "EPA                             True\n",
       "airEPA                          True\n",
       "yacEPA                          True\n",
       "Home_WP_pre                     True\n",
       "Away_WP_pre                     True\n",
       "Home_WP_post                    True\n",
       "Away_WP_post                    True\n",
       "Win_Prob                        True\n",
       "WPA                             True\n",
       "airWPA                          True\n",
       "yacWPA                          True\n",
       "Season                         False\n",
       "Length: 102, dtype: bool"
      ]
     },
     "execution_count": 5,
     "metadata": {},
     "output_type": "execute_result"
    }
   ],
   "source": [
    "df.isnull().any()"
   ]
  },
  {
   "cell_type": "code",
   "execution_count": 6,
   "metadata": {},
   "outputs": [
    {
     "data": {
      "text/html": [
       "<div>\n",
       "<style scoped>\n",
       "    .dataframe tbody tr th:only-of-type {\n",
       "        vertical-align: middle;\n",
       "    }\n",
       "\n",
       "    .dataframe tbody tr th {\n",
       "        vertical-align: top;\n",
       "    }\n",
       "\n",
       "    .dataframe thead th {\n",
       "        text-align: right;\n",
       "    }\n",
       "</style>\n",
       "<table border=\"1\" class=\"dataframe\">\n",
       "  <thead>\n",
       "    <tr style=\"text-align: right;\">\n",
       "      <th></th>\n",
       "      <th>Date</th>\n",
       "      <th>GameID</th>\n",
       "      <th>Drive</th>\n",
       "      <th>qtr</th>\n",
       "      <th>down</th>\n",
       "      <th>time</th>\n",
       "      <th>TimeUnder</th>\n",
       "      <th>TimeSecs</th>\n",
       "      <th>PlayTimeDiff</th>\n",
       "      <th>SideofField</th>\n",
       "      <th>...</th>\n",
       "      <th>yacEPA</th>\n",
       "      <th>Home_WP_pre</th>\n",
       "      <th>Away_WP_pre</th>\n",
       "      <th>Home_WP_post</th>\n",
       "      <th>Away_WP_post</th>\n",
       "      <th>Win_Prob</th>\n",
       "      <th>WPA</th>\n",
       "      <th>airWPA</th>\n",
       "      <th>yacWPA</th>\n",
       "      <th>Season</th>\n",
       "    </tr>\n",
       "  </thead>\n",
       "  <tbody>\n",
       "    <tr>\n",
       "      <th>0</th>\n",
       "      <td>2009-09-10</td>\n",
       "      <td>2009091000</td>\n",
       "      <td>1</td>\n",
       "      <td>1</td>\n",
       "      <td>NaN</td>\n",
       "      <td>15:00</td>\n",
       "      <td>15</td>\n",
       "      <td>3600.0</td>\n",
       "      <td>0.0</td>\n",
       "      <td>TEN</td>\n",
       "      <td>...</td>\n",
       "      <td>NaN</td>\n",
       "      <td>0.485675</td>\n",
       "      <td>0.514325</td>\n",
       "      <td>0.546433</td>\n",
       "      <td>0.453567</td>\n",
       "      <td>0.485675</td>\n",
       "      <td>0.060758</td>\n",
       "      <td>NaN</td>\n",
       "      <td>NaN</td>\n",
       "      <td>2009</td>\n",
       "    </tr>\n",
       "    <tr>\n",
       "      <th>1</th>\n",
       "      <td>2009-09-10</td>\n",
       "      <td>2009091000</td>\n",
       "      <td>1</td>\n",
       "      <td>1</td>\n",
       "      <td>1.0</td>\n",
       "      <td>14:53</td>\n",
       "      <td>15</td>\n",
       "      <td>3593.0</td>\n",
       "      <td>7.0</td>\n",
       "      <td>PIT</td>\n",
       "      <td>...</td>\n",
       "      <td>1.146076</td>\n",
       "      <td>0.546433</td>\n",
       "      <td>0.453567</td>\n",
       "      <td>0.551088</td>\n",
       "      <td>0.448912</td>\n",
       "      <td>0.546433</td>\n",
       "      <td>0.004655</td>\n",
       "      <td>-0.032244</td>\n",
       "      <td>0.036899</td>\n",
       "      <td>2009</td>\n",
       "    </tr>\n",
       "    <tr>\n",
       "      <th>2</th>\n",
       "      <td>2009-09-10</td>\n",
       "      <td>2009091000</td>\n",
       "      <td>1</td>\n",
       "      <td>1</td>\n",
       "      <td>2.0</td>\n",
       "      <td>14:16</td>\n",
       "      <td>15</td>\n",
       "      <td>3556.0</td>\n",
       "      <td>37.0</td>\n",
       "      <td>PIT</td>\n",
       "      <td>...</td>\n",
       "      <td>NaN</td>\n",
       "      <td>0.551088</td>\n",
       "      <td>0.448912</td>\n",
       "      <td>0.510793</td>\n",
       "      <td>0.489207</td>\n",
       "      <td>0.551088</td>\n",
       "      <td>-0.040295</td>\n",
       "      <td>NaN</td>\n",
       "      <td>NaN</td>\n",
       "      <td>2009</td>\n",
       "    </tr>\n",
       "    <tr>\n",
       "      <th>3</th>\n",
       "      <td>2009-09-10</td>\n",
       "      <td>2009091000</td>\n",
       "      <td>1</td>\n",
       "      <td>1</td>\n",
       "      <td>3.0</td>\n",
       "      <td>13:35</td>\n",
       "      <td>14</td>\n",
       "      <td>3515.0</td>\n",
       "      <td>41.0</td>\n",
       "      <td>PIT</td>\n",
       "      <td>...</td>\n",
       "      <td>-5.031425</td>\n",
       "      <td>0.510793</td>\n",
       "      <td>0.489207</td>\n",
       "      <td>0.461217</td>\n",
       "      <td>0.538783</td>\n",
       "      <td>0.510793</td>\n",
       "      <td>-0.049576</td>\n",
       "      <td>0.106663</td>\n",
       "      <td>-0.156239</td>\n",
       "      <td>2009</td>\n",
       "    </tr>\n",
       "    <tr>\n",
       "      <th>4</th>\n",
       "      <td>2009-09-10</td>\n",
       "      <td>2009091000</td>\n",
       "      <td>1</td>\n",
       "      <td>1</td>\n",
       "      <td>4.0</td>\n",
       "      <td>13:27</td>\n",
       "      <td>14</td>\n",
       "      <td>3507.0</td>\n",
       "      <td>8.0</td>\n",
       "      <td>PIT</td>\n",
       "      <td>...</td>\n",
       "      <td>NaN</td>\n",
       "      <td>0.461217</td>\n",
       "      <td>0.538783</td>\n",
       "      <td>0.558929</td>\n",
       "      <td>0.441071</td>\n",
       "      <td>0.461217</td>\n",
       "      <td>0.097712</td>\n",
       "      <td>NaN</td>\n",
       "      <td>NaN</td>\n",
       "      <td>2009</td>\n",
       "    </tr>\n",
       "  </tbody>\n",
       "</table>\n",
       "<p>5 rows × 102 columns</p>\n",
       "</div>"
      ],
      "text/plain": [
       "         Date      GameID  Drive  qtr  down   time  TimeUnder  TimeSecs  \\\n",
       "0  2009-09-10  2009091000      1    1   NaN  15:00         15    3600.0   \n",
       "1  2009-09-10  2009091000      1    1   1.0  14:53         15    3593.0   \n",
       "2  2009-09-10  2009091000      1    1   2.0  14:16         15    3556.0   \n",
       "3  2009-09-10  2009091000      1    1   3.0  13:35         14    3515.0   \n",
       "4  2009-09-10  2009091000      1    1   4.0  13:27         14    3507.0   \n",
       "\n",
       "   PlayTimeDiff SideofField  ...    yacEPA  Home_WP_pre  Away_WP_pre  \\\n",
       "0           0.0         TEN  ...       NaN     0.485675     0.514325   \n",
       "1           7.0         PIT  ...  1.146076     0.546433     0.453567   \n",
       "2          37.0         PIT  ...       NaN     0.551088     0.448912   \n",
       "3          41.0         PIT  ... -5.031425     0.510793     0.489207   \n",
       "4           8.0         PIT  ...       NaN     0.461217     0.538783   \n",
       "\n",
       "   Home_WP_post  Away_WP_post  Win_Prob       WPA    airWPA    yacWPA  Season  \n",
       "0      0.546433      0.453567  0.485675  0.060758       NaN       NaN    2009  \n",
       "1      0.551088      0.448912  0.546433  0.004655 -0.032244  0.036899    2009  \n",
       "2      0.510793      0.489207  0.551088 -0.040295       NaN       NaN    2009  \n",
       "3      0.461217      0.538783  0.510793 -0.049576  0.106663 -0.156239    2009  \n",
       "4      0.558929      0.441071  0.461217  0.097712       NaN       NaN    2009  \n",
       "\n",
       "[5 rows x 102 columns]"
      ]
     },
     "execution_count": 6,
     "metadata": {},
     "output_type": "execute_result"
    }
   ],
   "source": [
    "df_copy = df.copy()\n",
    "df_copy.head()"
   ]
  },
  {
   "cell_type": "markdown",
   "metadata": {
    "_uuid": "3402596b3ed9c5d7d01f4ca5762b442e690a9b0f"
   },
   "source": [
    "<h1>Analysis </h1>\n",
    "<body>\n",
    "    <p>To continue the project I want to look into play calling...</p>\n",
    "</body>"
   ]
  },
  {
   "cell_type": "code",
   "execution_count": 7,
   "metadata": {},
   "outputs": [],
   "source": [
    "df_passes = df[(df.PlayType == \"Pass\")|(df.PlayType == 'Sack')]\n",
    "df_runs = df[df.PlayType == \"Run\"]"
   ]
  },
  {
   "cell_type": "markdown",
   "metadata": {
    "_uuid": "8ab8849418b057df86feb0af1214fe9763410fa3"
   },
   "source": [
    "<h3>Taking a Closer Look</h3>"
   ]
  },
  {
   "cell_type": "markdown",
   "metadata": {
    "_uuid": "2b526a2236366c3d9f41d7f699f87d0ff02f934c"
   },
   "source": [
    "<body>\n",
    "    <p>To get a better idea of how certain variables impact the offensive coordinators play calling, we need to dive into the data and see if we can find any interesting aspects that could be related to the play calls.</p>\n",
    "</body>"
   ]
  },
  {
   "cell_type": "code",
   "execution_count": 8,
   "metadata": {
    "_uuid": "364c0fe2d53d381104f6665ad22d9ad218f9a477"
   },
   "outputs": [
    {
     "data": {
      "text/html": [
       "<div>\n",
       "<style scoped>\n",
       "    .dataframe tbody tr th:only-of-type {\n",
       "        vertical-align: middle;\n",
       "    }\n",
       "\n",
       "    .dataframe tbody tr th {\n",
       "        vertical-align: top;\n",
       "    }\n",
       "\n",
       "    .dataframe thead th {\n",
       "        text-align: right;\n",
       "    }\n",
       "</style>\n",
       "<table border=\"1\" class=\"dataframe\">\n",
       "  <thead>\n",
       "    <tr style=\"text-align: right;\">\n",
       "      <th></th>\n",
       "      <th>GameID</th>\n",
       "      <th>qtr</th>\n",
       "      <th>TimeSecs</th>\n",
       "      <th>yrdline100</th>\n",
       "      <th>ydstogo</th>\n",
       "      <th>Drive</th>\n",
       "      <th>down</th>\n",
       "      <th>PlayType</th>\n",
       "      <th>PassLength</th>\n",
       "      <th>PassAttempt</th>\n",
       "      <th>RushAttempt</th>\n",
       "      <th>Yards.Gained</th>\n",
       "      <th>Team</th>\n",
       "      <th>DefensiveTeam</th>\n",
       "      <th>PassLocation</th>\n",
       "      <th>RunLocation</th>\n",
       "      <th>Season</th>\n",
       "    </tr>\n",
       "  </thead>\n",
       "  <tbody>\n",
       "    <tr>\n",
       "      <th>0</th>\n",
       "      <td>2009091000</td>\n",
       "      <td>1</td>\n",
       "      <td>3600.0</td>\n",
       "      <td>30.0</td>\n",
       "      <td>0</td>\n",
       "      <td>1</td>\n",
       "      <td>NaN</td>\n",
       "      <td>Kickoff</td>\n",
       "      <td>NaN</td>\n",
       "      <td>0</td>\n",
       "      <td>0</td>\n",
       "      <td>39</td>\n",
       "      <td>PIT</td>\n",
       "      <td>TEN</td>\n",
       "      <td>NaN</td>\n",
       "      <td>NaN</td>\n",
       "      <td>2009</td>\n",
       "    </tr>\n",
       "    <tr>\n",
       "      <th>1</th>\n",
       "      <td>2009091000</td>\n",
       "      <td>1</td>\n",
       "      <td>3593.0</td>\n",
       "      <td>58.0</td>\n",
       "      <td>10</td>\n",
       "      <td>1</td>\n",
       "      <td>1.0</td>\n",
       "      <td>Pass</td>\n",
       "      <td>Short</td>\n",
       "      <td>1</td>\n",
       "      <td>0</td>\n",
       "      <td>5</td>\n",
       "      <td>PIT</td>\n",
       "      <td>TEN</td>\n",
       "      <td>left</td>\n",
       "      <td>NaN</td>\n",
       "      <td>2009</td>\n",
       "    </tr>\n",
       "    <tr>\n",
       "      <th>2</th>\n",
       "      <td>2009091000</td>\n",
       "      <td>1</td>\n",
       "      <td>3556.0</td>\n",
       "      <td>53.0</td>\n",
       "      <td>5</td>\n",
       "      <td>1</td>\n",
       "      <td>2.0</td>\n",
       "      <td>Run</td>\n",
       "      <td>NaN</td>\n",
       "      <td>0</td>\n",
       "      <td>1</td>\n",
       "      <td>-3</td>\n",
       "      <td>PIT</td>\n",
       "      <td>TEN</td>\n",
       "      <td>NaN</td>\n",
       "      <td>right</td>\n",
       "      <td>2009</td>\n",
       "    </tr>\n",
       "    <tr>\n",
       "      <th>3</th>\n",
       "      <td>2009091000</td>\n",
       "      <td>1</td>\n",
       "      <td>3515.0</td>\n",
       "      <td>56.0</td>\n",
       "      <td>8</td>\n",
       "      <td>1</td>\n",
       "      <td>3.0</td>\n",
       "      <td>Pass</td>\n",
       "      <td>Deep</td>\n",
       "      <td>1</td>\n",
       "      <td>0</td>\n",
       "      <td>0</td>\n",
       "      <td>PIT</td>\n",
       "      <td>TEN</td>\n",
       "      <td>right</td>\n",
       "      <td>NaN</td>\n",
       "      <td>2009</td>\n",
       "    </tr>\n",
       "    <tr>\n",
       "      <th>4</th>\n",
       "      <td>2009091000</td>\n",
       "      <td>1</td>\n",
       "      <td>3507.0</td>\n",
       "      <td>56.0</td>\n",
       "      <td>8</td>\n",
       "      <td>1</td>\n",
       "      <td>4.0</td>\n",
       "      <td>Punt</td>\n",
       "      <td>NaN</td>\n",
       "      <td>0</td>\n",
       "      <td>0</td>\n",
       "      <td>0</td>\n",
       "      <td>PIT</td>\n",
       "      <td>TEN</td>\n",
       "      <td>NaN</td>\n",
       "      <td>NaN</td>\n",
       "      <td>2009</td>\n",
       "    </tr>\n",
       "  </tbody>\n",
       "</table>\n",
       "</div>"
      ],
      "text/plain": [
       "       GameID  qtr  TimeSecs  yrdline100  ydstogo  Drive  down PlayType  \\\n",
       "0  2009091000    1    3600.0        30.0        0      1   NaN  Kickoff   \n",
       "1  2009091000    1    3593.0        58.0       10      1   1.0     Pass   \n",
       "2  2009091000    1    3556.0        53.0        5      1   2.0      Run   \n",
       "3  2009091000    1    3515.0        56.0        8      1   3.0     Pass   \n",
       "4  2009091000    1    3507.0        56.0        8      1   4.0     Punt   \n",
       "\n",
       "  PassLength  PassAttempt  RushAttempt  Yards.Gained Team DefensiveTeam  \\\n",
       "0        NaN            0            0            39  PIT           TEN   \n",
       "1      Short            1            0             5  PIT           TEN   \n",
       "2        NaN            0            1            -3  PIT           TEN   \n",
       "3       Deep            1            0             0  PIT           TEN   \n",
       "4        NaN            0            0             0  PIT           TEN   \n",
       "\n",
       "  PassLocation RunLocation  Season  \n",
       "0          NaN         NaN    2009  \n",
       "1         left         NaN    2009  \n",
       "2          NaN       right    2009  \n",
       "3        right         NaN    2009  \n",
       "4          NaN         NaN    2009  "
      ]
     },
     "execution_count": 8,
     "metadata": {},
     "output_type": "execute_result"
    }
   ],
   "source": [
    "play_attr = ['GameID','qtr','TimeSecs','yrdline100','ydstogo','Drive','down','PlayType','PassLength', 'PassAttempt','RushAttempt','Yards.Gained','posteam','DefensiveTeam','PassLocation', 'RunLocation','Season']\n",
    "plays = df[play_attr]\n",
    "\n",
    "\n",
    "plays = plays[plays.PlayType.notna() & (plays.PlayType != 'No Play') & (plays.PlayType != 'Kickoff') & (plays.PlayType != 'Extra Point') & plays.qtr != 5]\n",
    "plays = plays.rename(columns = {'posteam':'Team'})\n",
    "plays.head(5)"
   ]
  },
  {
   "cell_type": "markdown",
   "metadata": {
    "_uuid": "61811763a61305f622ad8ff969f22b7340f51f70"
   },
   "source": [
    "<h3>Pass and Rush Attempts League-Wide by Quarter of the Game:</h3>"
   ]
  },
  {
   "cell_type": "code",
   "execution_count": 9,
   "metadata": {
    "_uuid": "ca60c177c3feb03e0c22048ffb4c8e4794dc69e9"
   },
   "outputs": [
    {
     "data": {
      "image/png": "[encoded data removed]",
      "text/plain": [
       "<Figure size 1296x576 with 1 Axes>"
      ]
     },
     "metadata": {
      "needs_background": "light"
     },
     "output_type": "display_data"
    }
   ],
   "source": [
    "#regulation_plays = plays[plays.qtr != 5]\n",
    "ax = plays.groupby(['qtr'])['PassAttempt','RushAttempt'].sum().plot.bar(figsize=(18,8),color=['green','pink'],rot=0,fontsize=16)\n",
    "ax.set_title(\"Amount of Plays each Quarter - by Rush or Pass\", fontsize=22)\n",
    "ax.set_xlabel(\"Quarter\", fontsize=16)\n",
    "ax.set_ylabel(\"# of Plays\", fontsize=12)\n",
    "ax.set_alpha(0.9)"
   ]
  },
  {
   "cell_type": "markdown",
   "metadata": {
    "_uuid": "2d80bc9c742dc96b7448ab967215386454cc5515"
   },
   "source": [
    "<body>\n",
    "    <p>As we can see, it seems that passing plays are more prominant in all categories. Recently, the play calling in the NFL has changed to a more pass-friendly offensive approach which has resulted in the value of high quality quarterbacks. The final goal here is to determine when teams are running the ball or passing the ball, so its helpful to get an idea of the aggregation first. One important distinction here is that the 2nd and 4th quarters see a spike in the amount of passing attempts but the rushing attempts remains fairly constant across the quarters. This is most likely due to teams trying to score before the possession changes in the 2nd half or to win at the end of the game due to the time-friendly rule that the clock stops after an incomplete pass and being able to throw the ball towards the sideline to stop the clock.\n",
    "</p>\n",
    "</body>"
   ]
  },
  {
   "cell_type": "markdown",
   "metadata": {
    "_uuid": "24f363e0441fec37bb6172ecb85a31f3f6309e9a"
   },
   "source": [
    "<h3>Play Call by Down</h3>\n"
   ]
  },
  {
   "cell_type": "code",
   "execution_count": 10,
   "metadata": {
    "_uuid": "7a28fb251b911b0be20fd453f0ca91a5a88980c0"
   },
   "outputs": [
    {
     "data": {
      "image/png": "[encoded data removed]",
      "text/plain": [
       "<Figure size 1296x576 with 1 Axes>"
      ]
     },
     "metadata": {
      "needs_background": "light"
     },
     "output_type": "display_data"
    }
   ],
   "source": [
    "plays_down = plays[plays.down <= 3]\n",
    "ax = plays_down.groupby(['down'])['PassAttempt','RushAttempt'].sum().plot.bar(figsize=(18,8),color=['green','pink'],rot=0,fontsize=16)\n",
    "ax.set_title(\"League-wide Play Calling by Down - by Rush or Pass\", fontsize=22)\n",
    "ax.set_xlabel(\"Down\", fontsize=16)\n",
    "ax.set_ylabel(\"# of Plays\", fontsize=12)\n",
    "ax.set_alpha(0.9)"
   ]
  },
  {
   "cell_type": "code",
   "execution_count": 46,
   "metadata": {},
   "outputs": [],
   "source": [
    "skins_df = df[(df.posteam == 'WAS') & (df.down.isin(range(1,5))) & ((df.PlayType == 'Run') | (df.PlayType == 'Pass'))]\n"
   ]
  },
  {
   "cell_type": "code",
   "execution_count": 47,
   "metadata": {},
   "outputs": [
    {
     "data": {
      "text/html": [
       "<div>\n",
       "<style scoped>\n",
       "    .dataframe tbody tr th:only-of-type {\n",
       "        vertical-align: middle;\n",
       "    }\n",
       "\n",
       "    .dataframe tbody tr th {\n",
       "        vertical-align: top;\n",
       "    }\n",
       "\n",
       "    .dataframe thead th {\n",
       "        text-align: right;\n",
       "    }\n",
       "</style>\n",
       "<table border=\"1\" class=\"dataframe\">\n",
       "  <thead>\n",
       "    <tr style=\"text-align: right;\">\n",
       "      <th></th>\n",
       "      <th>Date</th>\n",
       "      <th>GameID</th>\n",
       "      <th>Drive</th>\n",
       "      <th>qtr</th>\n",
       "      <th>down</th>\n",
       "      <th>time</th>\n",
       "      <th>TimeUnder</th>\n",
       "      <th>TimeSecs</th>\n",
       "      <th>PlayTimeDiff</th>\n",
       "      <th>SideofField</th>\n",
       "      <th>...</th>\n",
       "      <th>yacEPA</th>\n",
       "      <th>Home_WP_pre</th>\n",
       "      <th>Away_WP_pre</th>\n",
       "      <th>Home_WP_post</th>\n",
       "      <th>Away_WP_post</th>\n",
       "      <th>Win_Prob</th>\n",
       "      <th>WPA</th>\n",
       "      <th>airWPA</th>\n",
       "      <th>yacWPA</th>\n",
       "      <th>Season</th>\n",
       "    </tr>\n",
       "  </thead>\n",
       "  <tbody>\n",
       "    <tr>\n",
       "      <th>2082</th>\n",
       "      <td>2009-09-13</td>\n",
       "      <td>2009091310</td>\n",
       "      <td>2</td>\n",
       "      <td>1</td>\n",
       "      <td>1.0</td>\n",
       "      <td>07:32</td>\n",
       "      <td>8</td>\n",
       "      <td>3152.0</td>\n",
       "      <td>9.0</td>\n",
       "      <td>WAS</td>\n",
       "      <td>...</td>\n",
       "      <td>NaN</td>\n",
       "      <td>0.542090</td>\n",
       "      <td>0.457910</td>\n",
       "      <td>0.468405</td>\n",
       "      <td>0.531595</td>\n",
       "      <td>0.457910</td>\n",
       "      <td>0.073685</td>\n",
       "      <td>NaN</td>\n",
       "      <td>NaN</td>\n",
       "      <td>2009</td>\n",
       "    </tr>\n",
       "    <tr>\n",
       "      <th>2084</th>\n",
       "      <td>2009-09-13</td>\n",
       "      <td>2009091310</td>\n",
       "      <td>2</td>\n",
       "      <td>1</td>\n",
       "      <td>2.0</td>\n",
       "      <td>06:17</td>\n",
       "      <td>7</td>\n",
       "      <td>3077.0</td>\n",
       "      <td>47.0</td>\n",
       "      <td>NYG</td>\n",
       "      <td>...</td>\n",
       "      <td>NaN</td>\n",
       "      <td>0.512286</td>\n",
       "      <td>0.487714</td>\n",
       "      <td>0.532357</td>\n",
       "      <td>0.467643</td>\n",
       "      <td>0.487714</td>\n",
       "      <td>-0.020071</td>\n",
       "      <td>NaN</td>\n",
       "      <td>NaN</td>\n",
       "      <td>2009</td>\n",
       "    </tr>\n",
       "    <tr>\n",
       "      <th>2085</th>\n",
       "      <td>2009-09-13</td>\n",
       "      <td>2009091310</td>\n",
       "      <td>2</td>\n",
       "      <td>1</td>\n",
       "      <td>3.0</td>\n",
       "      <td>05:30</td>\n",
       "      <td>6</td>\n",
       "      <td>3030.0</td>\n",
       "      <td>47.0</td>\n",
       "      <td>NYG</td>\n",
       "      <td>...</td>\n",
       "      <td>1.152086</td>\n",
       "      <td>0.532357</td>\n",
       "      <td>0.467643</td>\n",
       "      <td>0.548341</td>\n",
       "      <td>0.451659</td>\n",
       "      <td>0.467643</td>\n",
       "      <td>-0.015984</td>\n",
       "      <td>-0.052357</td>\n",
       "      <td>0.036373</td>\n",
       "      <td>2009</td>\n",
       "    </tr>\n",
       "    <tr>\n",
       "      <th>2099</th>\n",
       "      <td>2009-09-13</td>\n",
       "      <td>2009091310</td>\n",
       "      <td>4</td>\n",
       "      <td>2</td>\n",
       "      <td>1.0</td>\n",
       "      <td>14:54</td>\n",
       "      <td>15</td>\n",
       "      <td>2694.0</td>\n",
       "      <td>6.0</td>\n",
       "      <td>WAS</td>\n",
       "      <td>...</td>\n",
       "      <td>NaN</td>\n",
       "      <td>0.654611</td>\n",
       "      <td>0.345389</td>\n",
       "      <td>0.677450</td>\n",
       "      <td>0.322550</td>\n",
       "      <td>0.345389</td>\n",
       "      <td>-0.022838</td>\n",
       "      <td>NaN</td>\n",
       "      <td>NaN</td>\n",
       "      <td>2009</td>\n",
       "    </tr>\n",
       "    <tr>\n",
       "      <th>2100</th>\n",
       "      <td>2009-09-13</td>\n",
       "      <td>2009091310</td>\n",
       "      <td>4</td>\n",
       "      <td>2</td>\n",
       "      <td>2.0</td>\n",
       "      <td>14:24</td>\n",
       "      <td>15</td>\n",
       "      <td>2664.0</td>\n",
       "      <td>30.0</td>\n",
       "      <td>WAS</td>\n",
       "      <td>...</td>\n",
       "      <td>NaN</td>\n",
       "      <td>0.677450</td>\n",
       "      <td>0.322550</td>\n",
       "      <td>0.701374</td>\n",
       "      <td>0.298626</td>\n",
       "      <td>0.322550</td>\n",
       "      <td>-0.023924</td>\n",
       "      <td>NaN</td>\n",
       "      <td>NaN</td>\n",
       "      <td>2009</td>\n",
       "    </tr>\n",
       "  </tbody>\n",
       "</table>\n",
       "<p>5 rows × 102 columns</p>\n",
       "</div>"
      ],
      "text/plain": [
       "            Date      GameID  Drive  qtr  down   time  TimeUnder  TimeSecs  \\\n",
       "2082  2009-09-13  2009091310      2    1   1.0  07:32          8    3152.0   \n",
       "2084  2009-09-13  2009091310      2    1   2.0  06:17          7    3077.0   \n",
       "2085  2009-09-13  2009091310      2    1   3.0  05:30          6    3030.0   \n",
       "2099  2009-09-13  2009091310      4    2   1.0  14:54         15    2694.0   \n",
       "2100  2009-09-13  2009091310      4    2   2.0  14:24         15    2664.0   \n",
       "\n",
       "      PlayTimeDiff SideofField  ...    yacEPA  Home_WP_pre  Away_WP_pre  \\\n",
       "2082           9.0         WAS  ...       NaN     0.542090     0.457910   \n",
       "2084          47.0         NYG  ...       NaN     0.512286     0.487714   \n",
       "2085          47.0         NYG  ...  1.152086     0.532357     0.467643   \n",
       "2099           6.0         WAS  ...       NaN     0.654611     0.345389   \n",
       "2100          30.0         WAS  ...       NaN     0.677450     0.322550   \n",
       "\n",
       "      Home_WP_post  Away_WP_post  Win_Prob       WPA    airWPA    yacWPA  \\\n",
       "2082      0.468405      0.531595  0.457910  0.073685       NaN       NaN   \n",
       "2084      0.532357      0.467643  0.487714 -0.020071       NaN       NaN   \n",
       "2085      0.548341      0.451659  0.467643 -0.015984 -0.052357  0.036373   \n",
       "2099      0.677450      0.322550  0.345389 -0.022838       NaN       NaN   \n",
       "2100      0.701374      0.298626  0.322550 -0.023924       NaN       NaN   \n",
       "\n",
       "      Season  \n",
       "2082    2009  \n",
       "2084    2009  \n",
       "2085    2009  \n",
       "2099    2009  \n",
       "2100    2009  \n",
       "\n",
       "[5 rows x 102 columns]"
      ]
     },
     "execution_count": 47,
     "metadata": {},
     "output_type": "execute_result"
    }
   ],
   "source": [
    "skins_df.head()"
   ]
  },
  {
   "cell_type": "code",
   "execution_count": 52,
   "metadata": {},
   "outputs": [
    {
     "data": {
      "text/plain": [
       "Text(0.5, 1.0, 'Redskins play-type distribution from 2009-2018')"
      ]
     },
     "execution_count": 52,
     "metadata": {},
     "output_type": "execute_result"
    },
    {
     "data": {
      "image/png": "[encoded data removed]",
      "text/plain": [
       "<Figure size 432x288 with 1 Axes>"
      ]
     },
     "metadata": {},
     "output_type": "display_data"
    }
   ],
   "source": [
    "red_pie = skins_df['PlayType'].value_counts()\n",
    "\n",
    "plt.pie(red_pie, labels = ('Pass', 'Run'), autopct='%.2f%%')\n",
    "plt.title(\"Redskins play-type distribution from 2009-2018\")"
   ]
  },
  {
   "cell_type": "code",
   "execution_count": 11,
   "metadata": {},
   "outputs": [
    {
     "data": {
      "image/png": "[encoded data removed]",
      "text/plain": [
       "<Figure size 1440x648 with 1 Axes>"
      ]
     },
     "metadata": {
      "needs_background": "light"
     },
     "output_type": "display_data"
    }
   ],
   "source": [
    "# group by qtr: count\n",
    "dal_plays_down = plays[(plays.down <= 3) & (plays.Team == 'DAL')]\n",
    "ax = dal_plays_down.groupby(['down'])['PassAttempt','RushAttempt'].sum().plot.bar(figsize=(20,9),color=['red','blue'],rot=0,fontsize=16)\n",
    "ax.set_title(\"Dallas Cowboys -Play Calling by Down - by Rush or Pass\", fontsize=24)\n",
    "ax.set_xlabel(\"Down\", fontsize=18)\n",
    "ax.set_ylabel(\"# of Plays\", fontsize=14)\n",
    "ax.set_alpha(0.8)\n"
   ]
  },
  {
   "cell_type": "code",
   "execution_count": 12,
   "metadata": {},
   "outputs": [
    {
     "data": {
      "image/png": "[encoded data removed]",
      "text/plain": [
       "<Figure size 1296x576 with 1 Axes>"
      ]
     },
     "metadata": {
      "needs_background": "light"
     },
     "output_type": "display_data"
    }
   ],
   "source": [
    "# group by qtr: count\n",
    "dal_plays_pass = plays[(plays.down <= 3) & (plays.PassAttempt == 1) & (plays.Team == \"DAL\")]\n",
    "ax = dal_plays_pass.groupby(['down','PassLocation'])['PassLength'].count().plot.bar(figsize=(18,8),color=['yellow','orange'],rot=0,fontsize=16)\n",
    "ax.set_title(\"Dallas Cowboys Play Calling by Down - by Pass\", fontsize=22)\n",
    "ax.set_xlabel(\"Down and Pass Location\", fontsize=16)\n",
    "ax.set_ylabel(\"# of Plays\", fontsize=12)\n",
    "ax.set_alpha(0.9)\n"
   ]
  },
  {
   "cell_type": "code",
   "execution_count": 13,
   "metadata": {},
   "outputs": [
    {
     "data": {
      "image/png": "[encoded data removed]",
      "text/plain": [
       "<Figure size 1440x648 with 1 Axes>"
      ]
     },
     "metadata": {
      "needs_background": "light"
     },
     "output_type": "display_data"
    }
   ],
   "source": [
    "# group by qtr: count\n",
    "nyg_plays_down = plays[(plays.down <= 3) & (plays.Team == 'NYG')]\n",
    "ax = nyg_plays_down.groupby(['down'])['PassAttempt','RushAttempt'].sum().plot.bar(figsize=(20,9),color=['red','blue'],rot=0,fontsize=16)\n",
    "ax.set_title(\"New York Giants -Play Calling by Down - by Rush or Pass\", fontsize=24)\n",
    "ax.set_xlabel(\"Down\", fontsize=18)\n",
    "ax.set_ylabel(\"# of Plays\", fontsize=14)\n",
    "ax.set_alpha(0.8)\n"
   ]
  },
  {
   "cell_type": "code",
   "execution_count": 14,
   "metadata": {},
   "outputs": [
    {
     "data": {
      "image/png": "[encoded data removed]",
      "text/plain": [
       "<Figure size 1296x576 with 1 Axes>"
      ]
     },
     "metadata": {
      "needs_background": "light"
     },
     "output_type": "display_data"
    }
   ],
   "source": [
    "# group by qtr: count\n",
    "nyg_plays_pass = plays[(plays.down <= 3) & (plays.PassAttempt == 1) & (plays.Team == \"NYG\")]\n",
    "ax = nyg_plays_pass.groupby(['down','PassLocation'])['PassLength'].count().plot.bar(figsize=(18,8),color=['yellow','orange'],rot=0,fontsize=16)\n",
    "ax.set_title(\"New York Giants Play Calling by Down - by Pass\", fontsize=22)\n",
    "ax.set_xlabel(\"Down and Pass Location\", fontsize=16)\n",
    "ax.set_ylabel(\"# of Plays\", fontsize=12)\n",
    "ax.set_alpha(0.9)\n"
   ]
  },
  {
   "cell_type": "code",
   "execution_count": 15,
   "metadata": {},
   "outputs": [
    {
     "data": {
      "image/png": "[encoded data removed]",
      "text/plain": [
       "<Figure size 1296x576 with 1 Axes>"
      ]
     },
     "metadata": {
      "needs_background": "light"
     },
     "output_type": "display_data"
    }
   ],
   "source": [
    "# group by qtr: count\n",
    "phi_plays_down = plays[(plays.down <= 3) & (plays.Team == 'PHI')]\n",
    "ax = phi_plays_down.groupby(['down'])['PassAttempt','RushAttempt'].sum().plot.bar(figsize=(18,8),color=['red','blue'],rot=0,fontsize=16)\n",
    "ax.set_title(\"Philadelphia Eagles  -Play Calling by Down - by Rush or Pass\", fontsize=22)\n",
    "ax.set_xlabel(\"Down\", fontsize=16)\n",
    "ax.set_ylabel(\"# of Plays\", fontsize=12)\n",
    "ax.set_alpha(0.9)\n"
   ]
  },
  {
   "cell_type": "code",
   "execution_count": 16,
   "metadata": {},
   "outputs": [
    {
     "data": {
      "image/png": "[encoded data removed]",
      "text/plain": [
       "<Figure size 1296x576 with 1 Axes>"
      ]
     },
     "metadata": {
      "needs_background": "light"
     },
     "output_type": "display_data"
    }
   ],
   "source": [
    "# group by qtr: count\n",
    "phi_plays_pass = plays[(plays.down <= 3) & (plays.PassAttempt == 1) & (plays.Team == \"PHI\")]\n",
    "ax = phi_plays_pass.groupby(['down','PassLocation'])['PassLength'].count().plot.bar(figsize=(18,8),color=['yellow','orange'],rot=0,fontsize=16)\n",
    "ax.set_title(\"Philadelphia Eagles Play Calling by Down - by Pass\", fontsize=22)\n",
    "ax.set_xlabel(\"Down and Pass Location\", fontsize=16)\n",
    "ax.set_ylabel(\"# of Plays\", fontsize=12)\n",
    "ax.set_alpha(0.9)\n"
   ]
  },
  {
   "cell_type": "code",
   "execution_count": 17,
   "metadata": {},
   "outputs": [],
   "source": [
    "nyg_df = df[(df.posteam=='NYG') & (df.down.isin([1.0, 2.0, 3.0, 4.0])) & ((df.PlayType=='Run') | (df.PlayType == 'Pass'))]\n",
    "dal_df = df[(df.posteam=='DAL') & (df.down.isin([1.0, 2.0, 3.0, 4.0])) & ((df.PlayType=='Run') | (df.PlayType == 'Pass'))]\n",
    "phi_df = df[(df.posteam=='PHI') & (df.down.isin([1.0, 2.0, 3.0, 4.0])) & ((df.PlayType=='Run') | (df.PlayType == 'Pass'))]\n",
    "\n",
    "nyg_df = nyg_df[play_attr]\n",
    "dal_df = dal_df[play_attr]\n",
    "phi_df = phi_df[play_attr]"
   ]
  },
  {
   "cell_type": "code",
   "execution_count": 18,
   "metadata": {},
   "outputs": [
    {
     "data": {
      "text/html": [
       "<div>\n",
       "<style scoped>\n",
       "    .dataframe tbody tr th:only-of-type {\n",
       "        vertical-align: middle;\n",
       "    }\n",
       "\n",
       "    .dataframe tbody tr th {\n",
       "        vertical-align: top;\n",
       "    }\n",
       "\n",
       "    .dataframe thead th {\n",
       "        text-align: right;\n",
       "    }\n",
       "</style>\n",
       "<table border=\"1\" class=\"dataframe\">\n",
       "  <thead>\n",
       "    <tr style=\"text-align: right;\">\n",
       "      <th></th>\n",
       "      <th>GameID</th>\n",
       "      <th>qtr</th>\n",
       "      <th>TimeSecs</th>\n",
       "      <th>yrdline100</th>\n",
       "      <th>ydstogo</th>\n",
       "      <th>Drive</th>\n",
       "      <th>down</th>\n",
       "      <th>PlayType</th>\n",
       "      <th>PassLength</th>\n",
       "      <th>PassAttempt</th>\n",
       "      <th>RushAttempt</th>\n",
       "      <th>Yards.Gained</th>\n",
       "      <th>posteam</th>\n",
       "      <th>DefensiveTeam</th>\n",
       "      <th>PassLocation</th>\n",
       "      <th>RunLocation</th>\n",
       "      <th>Season</th>\n",
       "    </tr>\n",
       "  </thead>\n",
       "  <tbody>\n",
       "    <tr>\n",
       "      <th>2068</th>\n",
       "      <td>2009091310</td>\n",
       "      <td>1</td>\n",
       "      <td>3595.0</td>\n",
       "      <td>78.0</td>\n",
       "      <td>10</td>\n",
       "      <td>1</td>\n",
       "      <td>1.0</td>\n",
       "      <td>Pass</td>\n",
       "      <td>Short</td>\n",
       "      <td>1</td>\n",
       "      <td>0</td>\n",
       "      <td>3</td>\n",
       "      <td>NYG</td>\n",
       "      <td>WAS</td>\n",
       "      <td>right</td>\n",
       "      <td>NaN</td>\n",
       "      <td>2009</td>\n",
       "    </tr>\n",
       "    <tr>\n",
       "      <th>2069</th>\n",
       "      <td>2009091310</td>\n",
       "      <td>1</td>\n",
       "      <td>3570.0</td>\n",
       "      <td>75.0</td>\n",
       "      <td>7</td>\n",
       "      <td>1</td>\n",
       "      <td>2.0</td>\n",
       "      <td>Run</td>\n",
       "      <td>NaN</td>\n",
       "      <td>0</td>\n",
       "      <td>1</td>\n",
       "      <td>0</td>\n",
       "      <td>NYG</td>\n",
       "      <td>WAS</td>\n",
       "      <td>NaN</td>\n",
       "      <td>NaN</td>\n",
       "      <td>2009</td>\n",
       "    </tr>\n",
       "    <tr>\n",
       "      <th>2070</th>\n",
       "      <td>2009091310</td>\n",
       "      <td>1</td>\n",
       "      <td>3523.0</td>\n",
       "      <td>71.0</td>\n",
       "      <td>3</td>\n",
       "      <td>1</td>\n",
       "      <td>3.0</td>\n",
       "      <td>Pass</td>\n",
       "      <td>Short</td>\n",
       "      <td>1</td>\n",
       "      <td>0</td>\n",
       "      <td>7</td>\n",
       "      <td>NYG</td>\n",
       "      <td>WAS</td>\n",
       "      <td>middle</td>\n",
       "      <td>NaN</td>\n",
       "      <td>2009</td>\n",
       "    </tr>\n",
       "    <tr>\n",
       "      <th>2071</th>\n",
       "      <td>2009091310</td>\n",
       "      <td>1</td>\n",
       "      <td>3481.0</td>\n",
       "      <td>64.0</td>\n",
       "      <td>10</td>\n",
       "      <td>1</td>\n",
       "      <td>1.0</td>\n",
       "      <td>Pass</td>\n",
       "      <td>Short</td>\n",
       "      <td>1</td>\n",
       "      <td>0</td>\n",
       "      <td>0</td>\n",
       "      <td>NYG</td>\n",
       "      <td>WAS</td>\n",
       "      <td>left</td>\n",
       "      <td>NaN</td>\n",
       "      <td>2009</td>\n",
       "    </tr>\n",
       "    <tr>\n",
       "      <th>2072</th>\n",
       "      <td>2009091310</td>\n",
       "      <td>1</td>\n",
       "      <td>3473.0</td>\n",
       "      <td>64.0</td>\n",
       "      <td>10</td>\n",
       "      <td>1</td>\n",
       "      <td>2.0</td>\n",
       "      <td>Run</td>\n",
       "      <td>NaN</td>\n",
       "      <td>0</td>\n",
       "      <td>1</td>\n",
       "      <td>3</td>\n",
       "      <td>NYG</td>\n",
       "      <td>WAS</td>\n",
       "      <td>NaN</td>\n",
       "      <td>right</td>\n",
       "      <td>2009</td>\n",
       "    </tr>\n",
       "  </tbody>\n",
       "</table>\n",
       "</div>"
      ],
      "text/plain": [
       "          GameID  qtr  TimeSecs  yrdline100  ydstogo  Drive  down PlayType  \\\n",
       "2068  2009091310    1    3595.0        78.0       10      1   1.0     Pass   \n",
       "2069  2009091310    1    3570.0        75.0        7      1   2.0      Run   \n",
       "2070  2009091310    1    3523.0        71.0        3      1   3.0     Pass   \n",
       "2071  2009091310    1    3481.0        64.0       10      1   1.0     Pass   \n",
       "2072  2009091310    1    3473.0        64.0       10      1   2.0      Run   \n",
       "\n",
       "     PassLength  PassAttempt  RushAttempt  Yards.Gained posteam DefensiveTeam  \\\n",
       "2068      Short            1            0             3     NYG           WAS   \n",
       "2069        NaN            0            1             0     NYG           WAS   \n",
       "2070      Short            1            0             7     NYG           WAS   \n",
       "2071      Short            1            0             0     NYG           WAS   \n",
       "2072        NaN            0            1             3     NYG           WAS   \n",
       "\n",
       "     PassLocation RunLocation  Season  \n",
       "2068        right         NaN    2009  \n",
       "2069          NaN         NaN    2009  \n",
       "2070       middle         NaN    2009  \n",
       "2071         left         NaN    2009  \n",
       "2072          NaN       right    2009  "
      ]
     },
     "execution_count": 18,
     "metadata": {},
     "output_type": "execute_result"
    }
   ],
   "source": [
    "nyg_df.head()"
   ]
  },
  {
   "cell_type": "code",
   "execution_count": 19,
   "metadata": {},
   "outputs": [],
   "source": [
    "import numpy as np\n",
    "def get_full_play_type(play):\n",
    "    play_type, pass_length, pass_location, run_location = play\n",
    "    if(play_type == 'Run'):\n",
    "        return play_type+'_'+run_location\n",
    "    else:\n",
    "        return play_type+'_'+pass_location  "
   ]
  },
  {
   "cell_type": "code",
   "execution_count": 20,
   "metadata": {},
   "outputs": [],
   "source": [
    "nyg_df = nyg_df.replace(np.nan, 'unknown', regex=True)      \n",
    "nyg_df['full_play_type'] = nyg_df[['PlayType', 'PassLength', 'PassLocation', 'RunLocation']].apply(get_full_play_type, axis=1)"
   ]
  },
  {
   "cell_type": "code",
   "execution_count": 21,
   "metadata": {
    "scrolled": true
   },
   "outputs": [],
   "source": [
    "dal_df = dal_df.replace(np.nan, 'unknown', regex=True)      \n",
    "dal_df['full_play_type'] = dal_df[['PlayType', 'PassLength', 'PassLocation', 'RunLocation']].apply(get_full_play_type, axis=1)"
   ]
  },
  {
   "cell_type": "code",
   "execution_count": 22,
   "metadata": {},
   "outputs": [],
   "source": [
    "phi_df = phi_df.replace(np.nan, 'unknown', regex=True)      \n",
    "phi_df['full_play_type'] = phi_df[['PlayType', 'PassLength', 'PassLocation', 'RunLocation']].apply(get_full_play_type, axis=1)"
   ]
  },
  {
   "cell_type": "code",
   "execution_count": 23,
   "metadata": {},
   "outputs": [
    {
     "data": {
      "text/plain": [
       "Text(0.5, 1.0, 'New York Giants - Play Location')"
      ]
     },
     "execution_count": 23,
     "metadata": {},
     "output_type": "execute_result"
    },
    {
     "data": {
      "image/png": "[encoded data removed]",
      "text/plain": [
       "<Figure size 432x288 with 1 Axes>"
      ]
     },
     "metadata": {
      "needs_background": "light"
     },
     "output_type": "display_data"
    }
   ],
   "source": [
    "ax = nyg_df.groupby(['full_play_type']).count()[['PlayType']].plot(kind='bar')\n",
    "ax.set_title(\"New York Giants - Play Location\", fontsize=14)"
   ]
  },
  {
   "cell_type": "code",
   "execution_count": 24,
   "metadata": {},
   "outputs": [
    {
     "data": {
      "text/plain": [
       "Text(0.5, 1.0, 'Dallas Cowboys - Play Location')"
      ]
     },
     "execution_count": 24,
     "metadata": {},
     "output_type": "execute_result"
    },
    {
     "data": {
      "image/png": "[encoded data removed]",
      "text/plain": [
       "<Figure size 432x288 with 1 Axes>"
      ]
     },
     "metadata": {
      "needs_background": "light"
     },
     "output_type": "display_data"
    }
   ],
   "source": [
    "ax = dal_df.groupby(['full_play_type']).count()[['PlayType']].plot(kind='bar')\n",
    "ax.set_title(\"Dallas Cowboys - Play Location\", fontsize=14)"
   ]
  },
  {
   "cell_type": "code",
   "execution_count": 25,
   "metadata": {},
   "outputs": [
    {
     "data": {
      "text/plain": [
       "Text(0.5, 1.0, 'Philadelphia Eagles - Play Location')"
      ]
     },
     "execution_count": 25,
     "metadata": {},
     "output_type": "execute_result"
    },
    {
     "data": {
      "image/png": "[encoded data removed]",
      "text/plain": [
       "<Figure size 432x288 with 1 Axes>"
      ]
     },
     "metadata": {
      "needs_background": "light"
     },
     "output_type": "display_data"
    }
   ],
   "source": [
    "ax = phi_df.groupby(['full_play_type']).count()[['PlayType']].plot(kind='bar')\n",
    "ax.set_title(\"Philadelphia Eagles - Play Location\", fontsize=14)"
   ]
  },
  {
   "cell_type": "code",
   "execution_count": 26,
   "metadata": {},
   "outputs": [],
   "source": [
    "play_model_attr = ['PlayAttempted','qtr','TimeSecs','yrdline100','ydstogo','Drive','down','PlayType','GoalToGo',\n",
    "             'TimeUnder','PlayTimeDiff','PassAttempt','RushAttempt','PosTeamScore',\n",
    "             'DefTeamScore','HomeTimeouts_Remaining_Pre','AwayTimeouts_Remaining_Pre','No_Score_Prob',\n",
    "             'Field_Goal_Prob','Safety_Prob','Win_Prob','ExpPts','Touchdown_Prob' , 'EPA', 'WPA' ]\n",
    "play_model = df[play_model_attr]"
   ]
  },
  {
   "cell_type": "code",
   "execution_count": 27,
   "metadata": {},
   "outputs": [],
   "source": [
    "# filter out the records that we wont use to predict run or pass\n",
    "play_model = play_model[play_model.PlayType.notna()&\n",
    "              (play_model.PlayType != 'No Play')&\n",
    "              (play_model.PlayType != 'Kickoff')&\n",
    "              (play_model.PlayType != 'Extra Point')&\n",
    "              (play_model.PlayType != 'End of Game')&\n",
    "              (play_model.PlayType != 'Quarter End')&\n",
    "              (play_model.PlayType != 'Half End')&\n",
    "              (play_model.PlayType != 'Two Minute Warning')&\n",
    "              (play_model.PlayType != 'Field Goal')&\n",
    "              (play_model.PlayType != 'Punt')]"
   ]
  },
  {
   "cell_type": "code",
   "execution_count": 28,
   "metadata": {},
   "outputs": [],
   "source": [
    "play_model = play_model[play_model.PlayAttempted == 1]"
   ]
  },
  {
   "cell_type": "code",
   "execution_count": 29,
   "metadata": {},
   "outputs": [],
   "source": [
    "play_model = play_model.rename(columns = {'posteam':'Team'})\n",
    "play_model['ScoreDiff'] = play_model['PosTeamScore'] - play_model['DefTeamScore']"
   ]
  },
  {
   "cell_type": "code",
   "execution_count": 30,
   "metadata": {},
   "outputs": [],
   "source": [
    "play_model.TimeSecs = play_model.TimeSecs.fillna(0).astype(int)\n",
    "play_model.yrdline100 = play_model.yrdline100.fillna(0).astype(int)\n",
    "play_model.down = play_model.down.fillna(0).astype(int)\n",
    "play_model.PosTeamScore = play_model.PosTeamScore.fillna(0).astype(int)\n",
    "play_model.DefTeamScore = play_model.DefTeamScore.fillna(0).astype(int)\n",
    "play_model.ScoreDiff = play_model.ScoreDiff.fillna(0).astype(int)\n",
    "play_model.PlayTimeDiff = play_model.PlayTimeDiff.fillna(0).astype(int)\n",
    "play_model.GoalToGo = play_model.GoalToGo.fillna(0).astype(int)"
   ]
  },
  {
   "cell_type": "code",
   "execution_count": 31,
   "metadata": {},
   "outputs": [],
   "source": [
    "play_model = play_model[(play_model.PassAttempt == 1)|(play_model.RushAttempt == 1)]\n",
    "play_model['PlayType'] = play_model.apply(lambda x: 1 if x.PassAttempt == 1 else 0, axis=1)\n",
    "play_model.PlayType = play_model.PlayType.fillna(0).astype(int)\n",
    "play_model.No_Score_Prob = play_model.No_Score_Prob.fillna(0).astype(np.float32)\n",
    "play_model.Field_Goal_Prob = play_model.Field_Goal_Prob.fillna(0).astype(np.float32)\n",
    "play_model.Safety_Prob = play_model.Safety_Prob.fillna(0).astype(np.float32)\n",
    "play_model.Touchdown_Prob = play_model.Touchdown_Prob.fillna(0).astype(np.float32)\n",
    "play_model.Win_Prob = play_model.Win_Prob.fillna(0).astype(np.float32)\n",
    "play_model.ExpPts = play_model.ExpPts.fillna(0).astype(np.float32)\n",
    "play_model.WPA = play_model.WPA.fillna(0).astype(np.float32)\n",
    "play_model.EPA = play_model.EPA.fillna(0).astype(np.float32)"
   ]
  },
  {
   "cell_type": "code",
   "execution_count": 32,
   "metadata": {},
   "outputs": [],
   "source": [
    "X = play_model.drop(['PlayType','PlayAttempted', 'PassAttempt', 'RushAttempt','PosTeamScore', 'DefTeamScore', 'PlayTimeDiff', 'TimeUnder','GoalToGo','HomeTimeouts_Remaining_Pre', 'AwayTimeouts_Remaining_Pre' ], axis=1)\n",
    "\n",
    "y = play_model.PlayType\n",
    "train_X, val_X, train_y, val_y = train_test_split(X, y, test_size=0.20, random_state = 16)"
   ]
  },
  {
   "cell_type": "code",
   "execution_count": 33,
   "metadata": {},
   "outputs": [
    {
     "data": {
      "text/plain": [
       "Index(['PlayAttempted', 'qtr', 'TimeSecs', 'yrdline100', 'ydstogo', 'Drive',\n",
       "       'down', 'PlayType', 'GoalToGo', 'TimeUnder', 'PlayTimeDiff',\n",
       "       'PassAttempt', 'RushAttempt', 'PosTeamScore', 'DefTeamScore',\n",
       "       'HomeTimeouts_Remaining_Pre', 'AwayTimeouts_Remaining_Pre',\n",
       "       'No_Score_Prob', 'Field_Goal_Prob', 'Safety_Prob', 'Win_Prob', 'ExpPts',\n",
       "       'Touchdown_Prob', 'EPA', 'WPA', 'ScoreDiff'],\n",
       "      dtype='object')"
      ]
     },
     "execution_count": 33,
     "metadata": {},
     "output_type": "execute_result"
    }
   ],
   "source": [
    "play_model.columns"
   ]
  },
  {
   "cell_type": "code",
   "execution_count": 34,
   "metadata": {},
   "outputs": [],
   "source": [
    "dtc = DecisionTreeClassifier()\n",
    "dtc.fit(train_X, train_y)\n",
    "\n",
    "dt_predictions = dtc.predict(val_X)\n",
    "\n",
    "false_positive_rate, true_positive_rate, thresholds = roc_curve(val_y, dt_predictions)\n",
    "dt_roc_auc = auc(false_positive_rate, true_positive_rate)"
   ]
  },
  {
   "cell_type": "code",
   "execution_count": 35,
   "metadata": {},
   "outputs": [
    {
     "name": "stderr",
     "output_type": "stream",
     "text": [
      "C:\\Users\\Williams\\Anaconda3\\lib\\site-packages\\sklearn\\ensemble\\forest.py:246: FutureWarning: The default value of n_estimators will change from 10 in version 0.20 to 100 in 0.22.\n",
      "  \"10 in version 0.20 to 100 in 0.22.\", FutureWarning)\n"
     ]
    }
   ],
   "source": [
    "rf = RandomForestClassifier()\n",
    "rf.fit(train_X, train_y)\n",
    "\n",
    "rf_predictions = rf.predict(val_X)\n",
    "\n",
    "false_positive_rate, true_positive_rate, thresholds = roc_curve(val_y, rf_predictions)\n",
    "rf_roc_auc = auc(false_positive_rate, true_positive_rate)"
   ]
  },
  {
   "cell_type": "code",
   "execution_count": 36,
   "metadata": {},
   "outputs": [
    {
     "name": "stderr",
     "output_type": "stream",
     "text": [
      "C:\\Users\\Williams\\Anaconda3\\lib\\site-packages\\sklearn\\linear_model\\logistic.py:433: FutureWarning: Default solver will be changed to 'lbfgs' in 0.22. Specify a solver to silence this warning.\n",
      "  FutureWarning)\n"
     ]
    }
   ],
   "source": [
    "log_reg = LogisticRegression()\n",
    "log_reg.fit(train_X, train_y)\n",
    "\n",
    "lr_predictions = log_reg.predict(val_X)\n",
    "\n",
    "false_positive_rate, true_positive_rate, thresholds = roc_curve(val_y, lr_predictions)\n",
    "lr_roc_auc = auc(false_positive_rate, true_positive_rate)"
   ]
  },
  {
   "cell_type": "code",
   "execution_count": 37,
   "metadata": {},
   "outputs": [],
   "source": [
    "knn = KNeighborsClassifier(n_neighbors = 3)\n",
    "knn.fit(train_X, train_y)\n",
    "\n",
    "knn_predictions = knn.predict(val_X)\n",
    "\n",
    "false_positive_rate, true_positive_rate, thresholds = roc_curve(val_y, knn_predictions)\n",
    "knn_roc_auc = auc(false_positive_rate, true_positive_rate)"
   ]
  },
  {
   "cell_type": "code",
   "execution_count": 38,
   "metadata": {},
   "outputs": [
    {
     "data": {
      "text/html": [
       "<div>\n",
       "<style scoped>\n",
       "    .dataframe tbody tr th:only-of-type {\n",
       "        vertical-align: middle;\n",
       "    }\n",
       "\n",
       "    .dataframe tbody tr th {\n",
       "        vertical-align: top;\n",
       "    }\n",
       "\n",
       "    .dataframe thead th {\n",
       "        text-align: right;\n",
       "    }\n",
       "</style>\n",
       "<table border=\"1\" class=\"dataframe\">\n",
       "  <thead>\n",
       "    <tr style=\"text-align: right;\">\n",
       "      <th></th>\n",
       "      <th>Model</th>\n",
       "    </tr>\n",
       "    <tr>\n",
       "      <th>AUC</th>\n",
       "      <th></th>\n",
       "    </tr>\n",
       "  </thead>\n",
       "  <tbody>\n",
       "    <tr>\n",
       "      <th>0.751466</th>\n",
       "      <td>Random Forest</td>\n",
       "    </tr>\n",
       "    <tr>\n",
       "      <th>0.702152</th>\n",
       "      <td>Decision Tree</td>\n",
       "    </tr>\n",
       "    <tr>\n",
       "      <th>0.649241</th>\n",
       "      <td>Logistic Regression</td>\n",
       "    </tr>\n",
       "    <tr>\n",
       "      <th>0.583055</th>\n",
       "      <td>KNN</td>\n",
       "    </tr>\n",
       "  </tbody>\n",
       "</table>\n",
       "</div>"
      ],
      "text/plain": [
       "                        Model\n",
       "AUC                          \n",
       "0.751466        Random Forest\n",
       "0.702152        Decision Tree\n",
       "0.649241  Logistic Regression\n",
       "0.583055                  KNN"
      ]
     },
     "execution_count": 38,
     "metadata": {},
     "output_type": "execute_result"
    }
   ],
   "source": [
    "results = pd.DataFrame({\n",
    "    'Model': ['Decision Tree', 'Random Forest', 'Logistic Regression', 'KNN',],\n",
    "    'AUC': [dt_roc_auc, rf_roc_auc, lr_roc_auc, knn_roc_auc]})\n",
    "result_df = results.sort_values(by='AUC', ascending=False)\n",
    "result_df = result_df.set_index('AUC')\n",
    "result_df.head(7)"
   ]
  },
  {
   "cell_type": "code",
   "execution_count": 39,
   "metadata": {},
   "outputs": [
    {
     "data": {
      "text/plain": [
       "<matplotlib.axes._subplots.AxesSubplot at 0x20c189d28d0>"
      ]
     },
     "execution_count": 39,
     "metadata": {},
     "output_type": "execute_result"
    },
    {
     "data": {
      "image/png": "[encoded data removed]",
      "text/plain": [
       "<Figure size 2160x648 with 1 Axes>"
      ]
     },
     "metadata": {
      "needs_background": "light"
     },
     "output_type": "display_data"
    }
   ],
   "source": [
    "#Here, I look at how important the features are.\n",
    "importances = pd.DataFrame({'feature':train_X.columns,'importance':np.round(rf.feature_importances_,3)})\n",
    "importances = importances.sort_values('importance',ascending=False).set_index('feature')\n",
    "importances.plot.bar(figsize=(30,9), rot=0)"
   ]
  },
  {
   "cell_type": "code",
   "execution_count": 53,
   "metadata": {},
   "outputs": [
    {
     "data": {
      "text/plain": [
       "0.7349317386716012"
      ]
     },
     "execution_count": 53,
     "metadata": {},
     "output_type": "execute_result"
    }
   ],
   "source": [
    "x_train, x_test, y_train, y_test = train_test_split(X, y,random_state = 2)\n",
    "\n",
    "model = GradientBoostingClassifier()\n",
    "model.fit(x_train, y_train)\n",
    "\n",
    "y_pred = model.predict(x_test)\n",
    "\n",
    "false_positive_rate, true_positive_rate, thresholds = roc_curve(y_test, y_pred)\n",
    "roc_auc = auc(false_positive_rate, true_positive_rate)\n",
    "roc_auc"
   ]
  },
  {
   "cell_type": "code",
   "execution_count": 54,
   "metadata": {},
   "outputs": [
    {
     "data": {
      "image/png": "[encoded data removed]",
      "text/plain": [
       "<Figure size 432x288 with 1 Axes>"
      ]
     },
     "metadata": {
      "needs_background": "light"
     },
     "output_type": "display_data"
    }
   ],
   "source": [
    "# a couple learning rates to see how they affect the outcome of our model\n",
    "learning_rates = [0.2, 0.15, 0.1, 0.05, 0.01]\n",
    "\n",
    "train_results = []\n",
    "test_results = []\n",
    "train_results = []\n",
    "test_results = []\n",
    "for i in learning_rates:\n",
    "    model = GradientBoostingClassifier(learning_rate=i)\n",
    "    model.fit(x_train, y_train)\n",
    "\n",
    "    train_pred = model.predict(x_train)\n",
    "\n",
    "    false_positive_rate, true_positive_rate, thresholds = roc_curve(y_train, train_pred)\n",
    "    roc_auc = auc(false_positive_rate, true_positive_rate)\n",
    "    train_results.append(roc_auc)\n",
    "\n",
    "    y_pred = model.predict(x_test)\n",
    "\n",
    "\n",
    "    false_positive_rate, true_positive_rate, thresholds = roc_curve(y_test, y_pred)\n",
    "    roc_auc = auc(false_positive_rate, true_positive_rate)\n",
    "    test_results.append(roc_auc)\n",
    "\n",
    "line1, = plt.plot(learning_rates, train_results, 'b', label=\"Train AUC\")\n",
    "line2, = plt.plot(learning_rates, test_results, 'r', label=\"Test AUC\")\n",
    "\n",
    "plt.legend(handler_map={line1: HandlerLine2D(numpoints=2)})\n",
    "\n",
    "plt.ylabel('AUC score')\n",
    "plt.xlabel('learning rate')\n",
    "plt.show()"
   ]
  },
  {
   "cell_type": "code",
   "execution_count": 55,
   "metadata": {},
   "outputs": [
    {
     "data": {
      "image/png": "[encoded data removed]",
      "text/plain": [
       "<Figure size 432x288 with 1 Axes>"
      ]
     },
     "metadata": {
      "needs_background": "light"
     },
     "output_type": "display_data"
    }
   ],
   "source": [
    "# n_estimators to adjust to tune outcome\n",
    "n_estimators = [1, 4, 16, 64, 100]\n",
    "\n",
    "train_results = []\n",
    "test_results = []\n",
    "for i in n_estimators:\n",
    "    model = GradientBoostingClassifier(n_estimators=i)\n",
    "    model.fit(x_train, y_train)\n",
    "\n",
    "    train_pred = model.predict(x_train)\n",
    "\n",
    "    false_positive_rate, true_positive_rate, thresholds = roc_curve(y_train, train_pred)\n",
    "    roc_auc = auc(false_positive_rate, true_positive_rate)\n",
    "    train_results.append(roc_auc)\n",
    "\n",
    "    y_pred = model.predict(x_test)\n",
    "\n",
    "\n",
    "    false_positive_rate, true_positive_rate, thresholds = roc_curve(y_test, y_pred)\n",
    "    roc_auc = auc(false_positive_rate, true_positive_rate)\n",
    "    test_results.append(roc_auc)\n",
    "\n",
    "line1, = plt.plot(n_estimators, train_results, 'b', label=\"Train AUC\")\n",
    "line2, = plt.plot(n_estimators, test_results, 'r', label=\"Test AUC\")\n",
    "\n",
    "plt.legend(handler_map={line1: HandlerLine2D(numpoints=2)})\n",
    "\n",
    "plt.ylabel('AUC score')\n",
    "plt.xlabel('n_estimators')\n",
    "plt.show()"
   ]
  },
  {
   "cell_type": "code",
   "execution_count": null,
   "metadata": {},
   "outputs": [],
   "source": []
  }
 ],
 "metadata": {
  "kernelspec": {
   "display_name": "Python 3",
   "language": "python",
   "name": "python3"
  },
  "language_info": {
   "codemirror_mode": {
    "name": "ipython",
    "version": 3
   },
   "file_extension": ".py",
   "mimetype": "text/x-python",
   "name": "python",
   "nbconvert_exporter": "python",
   "pygments_lexer": "ipython3",
   "version": "3.7.3"
  }
 },
 "nbformat": 4,
 "nbformat_minor": 1
}
